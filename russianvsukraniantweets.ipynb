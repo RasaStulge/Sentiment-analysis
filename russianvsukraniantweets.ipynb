{
  "cells": [
    {
      "cell_type": "markdown",
      "metadata": {
        "id": "view-in-github",
        "colab_type": "text"
      },
      "source": [
        "<a href=\"https://colab.research.google.com/github/RasaStulge/Sentiment-analysis/blob/main/russianvsukraniantweets.ipynb\" target=\"_parent\"><img src=\"https://colab.research.google.com/assets/colab-badge.svg\" alt=\"Open In Colab\"/></a>"
      ]
    },
    {
      "cell_type": "code",
      "execution_count": 1,
      "metadata": {
        "id": "C1hkWtuloVMI"
      },
      "outputs": [],
      "source": [
        "import pandas as pd \n",
        "import os\n",
        "import gzip\n",
        "import csv\n",
        "import json\n",
        "import warnings\n",
        "import re"
      ]
    },
    {
      "cell_type": "code",
      "execution_count": 2,
      "metadata": {
        "colab": {
          "base_uri": "https://localhost:8080/"
        },
        "id": "svbaotZAojx-",
        "outputId": "213aabf1-58e6-4d6e-b11c-986bfeadb94e"
      },
      "outputs": [
        {
          "output_type": "stream",
          "name": "stdout",
          "text": [
            "Mounted at /content/gdrive\n"
          ]
        }
      ],
      "source": [
        "from google.colab import drive\n",
        "drive.mount ('/content/gdrive')"
      ]
    },
    {
      "cell_type": "code",
      "execution_count": 3,
      "metadata": {
        "colab": {
          "base_uri": "https://localhost:8080/"
        },
        "id": "g-MDkOkOokrn",
        "outputId": "42fab2e6-f288-4742-9a3c-f7461b7eebf4"
      },
      "outputs": [
        {
          "output_type": "stream",
          "name": "stdout",
          "text": [
            "gdrive\tsample_data\n"
          ]
        }
      ],
      "source": [
        "!ls"
      ]
    },
    {
      "cell_type": "code",
      "execution_count": 6,
      "metadata": {
        "id": "rwvqz6shfDBe"
      },
      "outputs": [],
      "source": [
        "import matplotlib.pyplot as plt"
      ]
    },
    {
      "cell_type": "code",
      "execution_count": 4,
      "metadata": {
        "id": "pOgVfuK7o9Qj"
      },
      "outputs": [],
      "source": [
        "os.environ ['KAGGLE_CONFIG_DIR']='/content/gdrive/MyDrive/kaggle_dataset'"
      ]
    },
    {
      "cell_type": "code",
      "execution_count": 5,
      "metadata": {
        "colab": {
          "base_uri": "https://localhost:8080/"
        },
        "id": "WnLxCkXbo_6e",
        "outputId": "11632fba-a4a1-4168-acf0-e976e44e8c91"
      },
      "outputs": [
        {
          "output_type": "stream",
          "name": "stdout",
          "text": [
            "/content/gdrive/MyDrive/kaggle_dataset\n"
          ]
        }
      ],
      "source": [
        "%cd /content/gdrive/MyDrive/kaggle_dataset"
      ]
    },
    {
      "cell_type": "code",
      "execution_count": 7,
      "metadata": {
        "colab": {
          "base_uri": "https://localhost:8080/"
        },
        "id": "mHGwrgsXpDN4",
        "outputId": "eb5f9ef4-ff6e-41a6-b25d-0d8134ed6250"
      },
      "outputs": [
        {
          "output_type": "stream",
          "name": "stdout",
          "text": [
            "/content/gdrive/MyDrive/kaggle_dataset\n"
          ]
        }
      ],
      "source": [
        "!pwd"
      ]
    },
    {
      "cell_type": "markdown",
      "source": [
        "###Prepare data"
      ],
      "metadata": {
        "id": "W6c1BrZo3xqW"
      }
    },
    {
      "cell_type": "code",
      "execution_count": 8,
      "metadata": {
        "colab": {
          "base_uri": "https://localhost:8080/"
        },
        "id": "LQ19rf6spHRg",
        "outputId": "4599034e-3e7a-4479-a7c6-0e520918a32d"
      },
      "outputs": [
        {
          "output_type": "stream",
          "name": "stdout",
          "text": [
            "Downloading ukraine-russian-crisis-twitter-dataset-1-2-m-rows.zip to /content/gdrive/MyDrive/kaggle_dataset\n",
            "100% 9.04G/9.05G [01:00<00:00, 197MB/s]\n",
            "100% 9.05G/9.05G [01:00<00:00, 160MB/s]\n"
          ]
        }
      ],
      "source": [
        "! kaggle datasets download -d bwandowando/ukraine-russian-crisis-twitter-dataset-1-2-m-rows"
      ]
    },
    {
      "cell_type": "code",
      "execution_count": 9,
      "metadata": {
        "colab": {
          "base_uri": "https://localhost:8080/"
        },
        "id": "40bMd6wSpLX4",
        "outputId": "e074e6c6-d05f-4f6a-d2b9-6bf4299a0651"
      },
      "outputs": [
        {
          "output_type": "stream",
          "name": "stdout",
          "text": [
            "Archive:  ukraine-russian-crisis-twitter-dataset-1-2-m-rows.zip\n",
            "replace 0401_UkraineCombinedTweetsDeduped.csv.gzip? [y]es, [n]o, [A]ll, [N]one, [r]ename: All\n",
            "  inflating: 0401_UkraineCombinedTweetsDeduped.csv.gzip  \n",
            "  inflating: 0402_UkraineCombinedTweetsDeduped.csv.gzip  \n",
            "  inflating: 0403_UkraineCombinedTweetsDeduped.csv.gzip  \n",
            "  inflating: 0404_UkraineCombinedTweetsDeduped.csv.gzip  \n",
            "  inflating: 0405_UkraineCombinedTweetsDeduped.csv.gzip  \n",
            "  inflating: 0406_UkraineCombinedTweetsDeduped.csv.gzip  \n",
            "  inflating: 0407_UkraineCombinedTweetsDeduped.csv.gzip  \n",
            "  inflating: 0408_UkraineCombinedTweetsDeduped.csv.gzip  \n",
            "  inflating: 0409_UkraineCombinedTweetsDeduped.csv.gzip  \n",
            "  inflating: 0410_UkraineCombinedTweetsDeduped.csv.gzip  \n",
            "  inflating: 0411_UkraineCombinedTweetsDeduped.csv.gzip  \n",
            "  inflating: 0412_UkraineCombinedTweetsDeduped.csv.gzip  \n",
            "  inflating: 0413_UkraineCombinedTweetsDeduped.csv.gzip  \n",
            "  inflating: 0414_UkraineCombinedTweetsDeduped.csv.gzip  \n",
            "  inflating: 0415_UkraineCombinedTweetsDeduped.csv.gzip  \n",
            "  inflating: 0416_UkraineCombinedTweetsDeduped.csv.gzip  \n",
            "  inflating: 0417_UkraineCombinedTweetsDeduped.csv.gzip  \n",
            "  inflating: 0418_UkraineCombinedTweetsDeduped.csv.gzip  \n",
            "  inflating: 0419_UkraineCombinedTweetsDeduped.csv.gzip  \n",
            "  inflating: 0420_UkraineCombinedTweetsDeduped.csv.gzip  \n",
            "  inflating: 0421_UkraineCombinedTweetsDeduped.csv.gzip  \n",
            "  inflating: 0422_UkraineCombinedTweetsDeduped.csv.gzip  \n",
            "  inflating: 0423_UkraineCombinedTweetsDeduped.csv.gzip  \n",
            "  inflating: 0424_UkraineCombinedTweetsDeduped.csv.gzip  \n",
            "  inflating: 0425_UkraineCombinedTweetsDeduped.csv.gzip  \n",
            "  inflating: 0426_UkraineCombinedTweetsDeduped.csv.gzip  \n",
            "  inflating: 0427_UkraineCombinedTweetsDeduped.csv.gzip  \n",
            "  inflating: 0428_UkraineCombinedTweetsDeduped.csv.gzip  \n",
            "  inflating: 0429_UkraineCombinedTweetsDeduped.csv.gzip  \n",
            "  inflating: 0430_UkraineCombinedTweetsDeduped.csv.gzip  \n",
            "  inflating: 0501_UkraineCombinedTweetsDeduped.csv.gzip  \n",
            "  inflating: 0502_UkraineCombinedTweetsDeduped.csv.gzip  \n",
            "  inflating: 0503_UkraineCombinedTweetsDeduped.csv.gzip  \n",
            "  inflating: 0504_UkraineCombinedTweetsDeduped.csv.gzip  \n",
            "  inflating: 0505_to_0507_UkraineCombinedTweetsDeduped.csv.gzip  \n",
            "  inflating: 0508_UkraineCombinedTweetsDeduped.csv.gzip  \n",
            "  inflating: 0509_UkraineCombinedTweetsDeduped.csv.gzip  \n",
            "  inflating: 0510_UkraineCombinedTweetsDeduped.csv.gzip  \n",
            "  inflating: 0511_UkraineCombinedTweetsDeduped.csv.gzip  \n",
            "  inflating: 0512_UkraineCombinedTweetsDeduped.csv.gzip  \n",
            "  inflating: 0513_UkraineCombinedTweetsDeduped.csv.gzip  \n",
            "  inflating: 0514_UkraineCombinedTweetsDeduped.csv.gzip  \n",
            "  inflating: 0515_UkraineCombinedTweetsDeduped.csv.gzip  \n",
            "  inflating: 0516_UkraineCombinedTweetsDeduped.csv.gzip  \n",
            "  inflating: 0517_UkraineCombinedTweetsDeduped.csv.gzip  \n",
            "  inflating: 0518_UkraineCombinedTweetsDeduped.csv.gzip  \n",
            "  inflating: 0519_UkraineCombinedTweetsDeduped.csv.gzip  \n",
            "  inflating: 0520_UkraineCombinedTweetsDeduped.csv.gzip  \n",
            "  inflating: 0521_UkraineCombinedTweetsDeduped.csv.gzip  \n",
            "  inflating: 0522_UkraineCombinedTweetsDeduped.csv.gzip  \n",
            "  inflating: 0523_UkraineCombinedTweetsDeduped.csv.gzip  \n",
            "  inflating: 0524_UkraineCombinedTweetsDeduped.csv.gzip  \n",
            "  inflating: 0525_UkraineCombinedTweetsDeduped.csv.gzip  \n",
            "  inflating: 0526_UkraineCombinedTweetsDeduped.csv.gzip  \n",
            "  inflating: 0527_UkraineCombinedTweetsDeduped.csv.gzip  \n",
            "  inflating: 0528_UkraineCombinedTweetsDeduped.csv.gzip  \n",
            "  inflating: 0529_UkraineCombinedTweetsDeduped.csv.gzip  \n",
            "  inflating: 0530_UkraineCombinedTweetsDeduped.csv.gzip  \n",
            "  inflating: 0531_UkraineCombinedTweetsDeduped.csv.gzip  \n",
            "  inflating: 0601_UkraineCombinedTweetsDeduped.csv.gzip  \n",
            "  inflating: 0602_UkraineCombinedTweetsDeduped.csv.gzip  \n",
            "  inflating: 0603_UkraineCombinedTweetsDeduped.csv.gzip  \n",
            "  inflating: 0604_UkraineCombinedTweetsDeduped.csv.gzip  \n",
            "  inflating: 0605_UkraineCombinedTweetsDeduped.csv.gzip  \n",
            "  inflating: 0606_to_08_UkraineCombinedTweetsDeduped.csv.gzip  \n",
            "  inflating: 0609_UkraineCombinedTweetsDeduped.csv.gzip  \n",
            "  inflating: 0610_UkraineCombinedTweetsDeduped.csv.gzip  \n",
            "  inflating: 0611_UkraineCombinedTweetsDeduped.csv.gzip  \n",
            "  inflating: 0612_UkraineCombinedTweetsDeduped.csv.gzip  \n",
            "  inflating: 0613_UkraineCombinedTweetsDeduped.csv.gzip  \n",
            "  inflating: 0614_UkraineCombinedTweetsDeduped.csv.gzip  \n",
            "  inflating: 0615_UkraineCombinedTweetsDeduped.csv.gzip  \n",
            "  inflating: 0616_UkraineCombinedTweetsDeduped.csv.gzip  \n",
            "  inflating: 0617_UkraineCombinedTweetsDeduped.csv.gzip  \n",
            "  inflating: UkraineCombinedTweetsDeduped20220227-131611.csv.gzip  \n",
            "  inflating: UkraineCombinedTweetsDeduped_FEB27.csv.gzip  \n",
            "  inflating: UkraineCombinedTweetsDeduped_FEB28_part1.csv.gzip  \n",
            "  inflating: UkraineCombinedTweetsDeduped_FEB28_part2.csv.gzip  \n",
            "  inflating: UkraineCombinedTweetsDeduped_MAR01.csv.gzip  \n",
            "  inflating: UkraineCombinedTweetsDeduped_MAR02.csv.gzip  \n",
            "  inflating: UkraineCombinedTweetsDeduped_MAR03.csv.gzip  \n",
            "  inflating: UkraineCombinedTweetsDeduped_MAR04.csv.gzip  \n",
            "  inflating: UkraineCombinedTweetsDeduped_MAR05.csv.gzip  \n",
            "  inflating: UkraineCombinedTweetsDeduped_MAR06.csv.gzip  \n",
            "  inflating: UkraineCombinedTweetsDeduped_MAR07.csv.gzip  \n",
            "  inflating: UkraineCombinedTweetsDeduped_MAR08.csv.gzip  \n",
            "  inflating: UkraineCombinedTweetsDeduped_MAR09.csv.gzip  \n",
            "  inflating: UkraineCombinedTweetsDeduped_MAR10.csv.gzip  \n",
            "  inflating: UkraineCombinedTweetsDeduped_MAR11.csv.gzip  \n",
            "  inflating: UkraineCombinedTweetsDeduped_MAR12.csv.gzip  \n",
            "  inflating: UkraineCombinedTweetsDeduped_MAR13.csv.gzip  \n",
            "  inflating: UkraineCombinedTweetsDeduped_MAR14.csv.gzip  \n",
            "  inflating: UkraineCombinedTweetsDeduped_MAR15.csv.gzip  \n",
            "  inflating: UkraineCombinedTweetsDeduped_MAR16.csv.gzip  \n",
            "  inflating: UkraineCombinedTweetsDeduped_MAR17.csv.gzip  \n",
            "  inflating: UkraineCombinedTweetsDeduped_MAR18.csv.gzip  \n",
            "  inflating: UkraineCombinedTweetsDeduped_MAR19.csv.gzip  \n",
            "  inflating: UkraineCombinedTweetsDeduped_MAR20.csv.gzip  \n",
            "  inflating: UkraineCombinedTweetsDeduped_MAR21.csv.gzip  \n",
            "  inflating: UkraineCombinedTweetsDeduped_MAR22.csv.gzip  \n",
            "  inflating: UkraineCombinedTweetsDeduped_MAR23.csv.gzip  \n",
            "  inflating: UkraineCombinedTweetsDeduped_MAR24.csv.gzip  \n",
            "  inflating: UkraineCombinedTweetsDeduped_MAR25.csv.gzip  \n",
            "  inflating: UkraineCombinedTweetsDeduped_MAR26.csv.gzip  \n",
            "  inflating: UkraineCombinedTweetsDeduped_MAR27_to_28.csv.gzip  \n",
            "  inflating: UkraineCombinedTweetsDeduped_MAR29.csv.gzip  \n",
            "  inflating: UkraineCombinedTweetsDeduped_MAR30_REAL.csv.gzip  \n",
            "  inflating: UkraineCombinedTweetsDeduped_MAR31.csv.gzip  \n"
          ]
        }
      ],
      "source": [
        "!unzip ukraine-russian-crisis-twitter-dataset-1-2-m-rows.zip"
      ]
    },
    {
      "cell_type": "markdown",
      "source": [
        "### Choose data for model"
      ],
      "metadata": {
        "id": "FQS522Nz32G9"
      }
    },
    {
      "cell_type": "code",
      "execution_count": 10,
      "metadata": {
        "id": "GOpu9Rz-qLbG"
      },
      "outputs": [],
      "source": [
        "#February\n",
        "file27_2 = r\"/content/gdrive/MyDrive/kaggle_dataset/UkraineCombinedTweetsDeduped20220227-131611.csv.gzip\"\n",
        "file027_2 = r\"/content/gdrive/MyDrive/kaggle_dataset/UkraineCombinedTweetsDeduped_FEB27.csv.gzip\"\n",
        "file28_2 = r\"/content/gdrive/MyDrive/kaggle_dataset/UkraineCombinedTweetsDeduped_FEB28_part1.csv.gzip\"\n",
        "file028_2 = r\"/content/gdrive/MyDrive/kaggle_dataset/UkraineCombinedTweetsDeduped_FEB28_part2.csv.gzip\"\n",
        "\n",
        "#March\n",
        "#file1_3  = r\"/content/gdrive/MyDrive/kaggle_dataset/UkraineCombinedTweetsDeduped_MAR01.csv.gzip\"\n",
        "file4_3  = r\"/content/gdrive/MyDrive/kaggle_dataset/UkraineCombinedTweetsDeduped_MAR04.csv.gzip\"\n",
        "\n",
        "#April\n",
        "#file1_4 = r\"/content/gdrive/MyDrive/kaggle_dataset/0401_UkraineCombinedTweetsDeduped.csv.gzip\"\n",
        "#file20_4  = r\"/content/gdrive/MyDrive/kaggle_dataset/0520_UkraineCombinedTweetsDeduped.csv.gzip\"\n",
        "\n",
        "#May\n",
        "#file1_5  = r\"/content/gdrive/MyDrive/kaggle_dataset/0501_UkraineCombinedTweetsDeduped.csv.gzip\"\n",
        "#file30_5  = r\"/content/gdrive/MyDrive/kaggle_dataset/0530_UkraineCombinedTweetsDeduped.csv.gzip\"\n",
        "\n",
        "#June\n",
        "#file5_6  = r\"/content/gdrive/MyDrive/kaggle_dataset/0605_UkraineCombinedTweetsDeduped.csv.gzip\"\n",
        "#file10_6  = r\"/content/gdrive/MyDrive/kaggle_dataset/0610_UkraineCombinedTweetsDeduped.csv.gzip\"\n"
      ]
    },
    {
      "cell_type": "code",
      "execution_count": 50,
      "metadata": {
        "id": "y9qk-TafqPkB"
      },
      "outputs": [],
      "source": [
        "df27_2 = pd.read_csv(file27_2, compression='gzip', index_col=0,encoding='utf-8', quoting=csv.QUOTE_ALL)\n",
        "df027_2 = pd.read_csv(file027_2, compression='gzip', index_col=0,encoding='utf-8', quoting=csv.QUOTE_ALL)\n",
        "df28_2 = pd.read_csv(file28_2, compression='gzip', index_col=0,encoding='utf-8', quoting=csv.QUOTE_ALL)\n",
        "df028_2 = pd.read_csv(file028_2, compression='gzip', index_col=0,encoding='utf-8', quoting=csv.QUOTE_ALL)\n",
        "\n",
        "#df1_3  = pd.read_csv(file1_3, compression='gzip', index_col=0,encoding='utf-8', quoting=csv.QUOTE_ALL)\n",
        "df4_3  = pd.read_csv(file4_3, compression='gzip', index_col=0,encoding='utf-8', quoting=csv.QUOTE_ALL)\n",
        "\n",
        "#df1_4 = pd.read_csv(file1_4, compression='gzip', index_col=0,encoding='utf-8', quoting=csv.QUOTE_ALL)\n",
        "#df20_4  = pd.read_csv(file20_4, compression='gzip', index_col=0,encoding='utf-8', quoting=csv.QUOTE_ALL)\n",
        "\n",
        "#df1_5  = pd.read_csv(file1_5, compression='gzip', index_col=0,encoding='utf-8', quoting=csv.QUOTE_ALL)\n",
        "#df30_5  = pd.read_csv(file30_5, compression='gzip', index_col=0,encoding='utf-8', quoting=csv.QUOTE_ALL)\n",
        "\n",
        "#df5_6  = pd.read_csv(file5_6, compression='gzip', index_col=0,encoding='utf-8', quoting=csv.QUOTE_ALL)\n",
        "#df10_6  = pd.read_csv(file10_6, compression='gzip', index_col=0,encoding='utf-8', quoting=csv.QUOTE_ALL)"
      ]
    },
    {
      "cell_type": "code",
      "execution_count": 51,
      "metadata": {
        "colab": {
          "base_uri": "https://localhost:8080/"
        },
        "id": "9t2FeMWPrmYT",
        "outputId": "b9a2c5ac-980e-477e-a009-6c6c8c1b9bf7"
      },
      "outputs": [
        {
          "output_type": "stream",
          "name": "stdout",
          "text": [
            "2444828 tweets from all chousen period\n"
          ]
        }
      ],
      "source": [
        "df1 = pd.concat([df27_2,df027_2,df28_2,df028_2])\n",
        "#df2 = pd.concat([df1_3,df4_3])\n",
        "#df3 = pd.concat([df1_4,df20_4])\n",
        "#df4 = pd.concat([df1_5,df30_5])\n",
        "#df5 = pd.concat([df5_6,df10_6])\n",
        "\n",
        "df = pd.concat([df4_3,df1])\n",
        "\n",
        "#print(len(df1), 'tweets from from 27-28 FEB')\n",
        "#print(len(df2), 'tweets from 1 and 4 MAR')\n",
        "#print(len(df3),'tweets from 1 and 20 APR')\n",
        "#print(len(df4), 'tweets from 1 and 30 MAY')\n",
        "#print(len(df5), 'tweets from 5 and 10 JUN')\n",
        "print(len(df),'tweets from all chousen period')"
      ]
    },
    {
      "cell_type": "code",
      "execution_count": 52,
      "metadata": {
        "colab": {
          "base_uri": "https://localhost:8080/",
          "height": 617
        },
        "id": "MQL-wvJRB0wi",
        "outputId": "e3042fef-dafc-4a71-ad18-efe7cc7ebf4e"
      },
      "outputs": [
        {
          "output_type": "execute_result",
          "data": {
            "text/plain": [
              "                      userid         username  \\\n",
              "1378357   962159694046523392  CuttingEdgeDino   \n",
              "1378358  1407899290790473732     SectionChine   \n",
              "1378359   770039615550021632     Valentinmsn2   \n",
              "1378360   952334892003680257      ShaunaO2011   \n",
              "1378361  1496695221366759427    thewelshtudor   \n",
              "\n",
              "                                                  acctdesc  \\\n",
              "1378357          Always thinking, -Let's Go Brandon!- #LGB   \n",
              "1378358  Infos sans préjugés sur la Chine, avec une dom...   \n",
              "1378359                                        Chtx/Angers   \n",
              "1378360                                                NaN   \n",
              "1378361  Pub quiz aficionado. Beer, whisky, BBQ enthusi...   \n",
              "\n",
              "                    location  following  followers  totaltweets  \\\n",
              "1378357                  NaN        429        205         7624   \n",
              "1378358                  NaN       1234       1223          162   \n",
              "1378359       Angers, France        282        244         9053   \n",
              "1378360                  NaN       1373        266        18115   \n",
              "1378361  Manchester, England         20         12          809   \n",
              "\n",
              "                      usercreatedts              tweetid       tweetcreatedts  \\\n",
              "1378357  2018-02-10 03:02:01.000000  1499535089977282566  2022-03-04 00:00:00   \n",
              "1378358  2021-06-24 06:06:32.000000  1499535090279272486  2022-03-04 00:00:00   \n",
              "1378359  2016-08-28 23:25:26.000000  1499535090505949186  2022-03-04 00:00:00   \n",
              "1378360  2018-01-14 00:21:46.000000  1499535090661134336  2022-03-04 00:00:00   \n",
              "1378361  2022-02-24 03:55:38.000000  1499535090677948419  2022-03-04 00:00:00   \n",
              "\n",
              "         retweetcount                                               text  \\\n",
              "1378357             0  @SenFeinstein you and your #oligarch cronies (...   \n",
              "1378358             0  La crise en #Ukraine a déplacé la stratégie du...   \n",
              "1378359           883  Vous doutez de notre force de dissuasion ? #Uk...   \n",
              "1378360             1  Their bloods are on the Russian hands.\\nMilita...   \n",
              "1378361           265  9:32 pm in #Ukraine. \\n\\nMy colleague from Sum...   \n",
              "\n",
              "                                                  hashtags language  \\\n",
              "1378357  [{'text': 'oligarch', 'indices': [27, 36]}, {'...       en   \n",
              "1378358  [{'text': 'Ukraine', 'indices': [12, 20]}, {'t...       fr   \n",
              "1378359         [{'text': 'Ukraine', 'indices': [61, 69]}]       fr   \n",
              "1378360  [{'text': 'Mariupol', 'indices': [77, 86]}, {'...       en   \n",
              "1378361         [{'text': 'Ukraine', 'indices': [30, 38]}]       en   \n",
              "\n",
              "        coordinates  favorite_count                 extractedts  \n",
              "1378357         NaN               0  2022-03-04 00:01:56.550039  \n",
              "1378358         NaN               0  2022-03-04 00:01:56.542631  \n",
              "1378359         NaN               0  2022-03-04 00:01:56.535210  \n",
              "1378360         NaN               0  2022-03-04 00:01:56.527344  \n",
              "1378361         NaN               0  2022-03-04 00:01:56.519788  "
            ],
            "text/html": [
              "\n",
              "  <div id=\"df-6f52824b-db9f-4987-bcb7-19e6cf016962\">\n",
              "    <div class=\"colab-df-container\">\n",
              "      <div>\n",
              "<style scoped>\n",
              "    .dataframe tbody tr th:only-of-type {\n",
              "        vertical-align: middle;\n",
              "    }\n",
              "\n",
              "    .dataframe tbody tr th {\n",
              "        vertical-align: top;\n",
              "    }\n",
              "\n",
              "    .dataframe thead th {\n",
              "        text-align: right;\n",
              "    }\n",
              "</style>\n",
              "<table border=\"1\" class=\"dataframe\">\n",
              "  <thead>\n",
              "    <tr style=\"text-align: right;\">\n",
              "      <th></th>\n",
              "      <th>userid</th>\n",
              "      <th>username</th>\n",
              "      <th>acctdesc</th>\n",
              "      <th>location</th>\n",
              "      <th>following</th>\n",
              "      <th>followers</th>\n",
              "      <th>totaltweets</th>\n",
              "      <th>usercreatedts</th>\n",
              "      <th>tweetid</th>\n",
              "      <th>tweetcreatedts</th>\n",
              "      <th>retweetcount</th>\n",
              "      <th>text</th>\n",
              "      <th>hashtags</th>\n",
              "      <th>language</th>\n",
              "      <th>coordinates</th>\n",
              "      <th>favorite_count</th>\n",
              "      <th>extractedts</th>\n",
              "    </tr>\n",
              "  </thead>\n",
              "  <tbody>\n",
              "    <tr>\n",
              "      <th>1378357</th>\n",
              "      <td>962159694046523392</td>\n",
              "      <td>CuttingEdgeDino</td>\n",
              "      <td>Always thinking, -Let's Go Brandon!- #LGB</td>\n",
              "      <td>NaN</td>\n",
              "      <td>429</td>\n",
              "      <td>205</td>\n",
              "      <td>7624</td>\n",
              "      <td>2018-02-10 03:02:01.000000</td>\n",
              "      <td>1499535089977282566</td>\n",
              "      <td>2022-03-04 00:00:00</td>\n",
              "      <td>0</td>\n",
              "      <td>@SenFeinstein you and your #oligarch cronies (...</td>\n",
              "      <td>[{'text': 'oligarch', 'indices': [27, 36]}, {'...</td>\n",
              "      <td>en</td>\n",
              "      <td>NaN</td>\n",
              "      <td>0</td>\n",
              "      <td>2022-03-04 00:01:56.550039</td>\n",
              "    </tr>\n",
              "    <tr>\n",
              "      <th>1378358</th>\n",
              "      <td>1407899290790473732</td>\n",
              "      <td>SectionChine</td>\n",
              "      <td>Infos sans préjugés sur la Chine, avec une dom...</td>\n",
              "      <td>NaN</td>\n",
              "      <td>1234</td>\n",
              "      <td>1223</td>\n",
              "      <td>162</td>\n",
              "      <td>2021-06-24 06:06:32.000000</td>\n",
              "      <td>1499535090279272486</td>\n",
              "      <td>2022-03-04 00:00:00</td>\n",
              "      <td>0</td>\n",
              "      <td>La crise en #Ukraine a déplacé la stratégie du...</td>\n",
              "      <td>[{'text': 'Ukraine', 'indices': [12, 20]}, {'t...</td>\n",
              "      <td>fr</td>\n",
              "      <td>NaN</td>\n",
              "      <td>0</td>\n",
              "      <td>2022-03-04 00:01:56.542631</td>\n",
              "    </tr>\n",
              "    <tr>\n",
              "      <th>1378359</th>\n",
              "      <td>770039615550021632</td>\n",
              "      <td>Valentinmsn2</td>\n",
              "      <td>Chtx/Angers</td>\n",
              "      <td>Angers, France</td>\n",
              "      <td>282</td>\n",
              "      <td>244</td>\n",
              "      <td>9053</td>\n",
              "      <td>2016-08-28 23:25:26.000000</td>\n",
              "      <td>1499535090505949186</td>\n",
              "      <td>2022-03-04 00:00:00</td>\n",
              "      <td>883</td>\n",
              "      <td>Vous doutez de notre force de dissuasion ? #Uk...</td>\n",
              "      <td>[{'text': 'Ukraine', 'indices': [61, 69]}]</td>\n",
              "      <td>fr</td>\n",
              "      <td>NaN</td>\n",
              "      <td>0</td>\n",
              "      <td>2022-03-04 00:01:56.535210</td>\n",
              "    </tr>\n",
              "    <tr>\n",
              "      <th>1378360</th>\n",
              "      <td>952334892003680257</td>\n",
              "      <td>ShaunaO2011</td>\n",
              "      <td>NaN</td>\n",
              "      <td>NaN</td>\n",
              "      <td>1373</td>\n",
              "      <td>266</td>\n",
              "      <td>18115</td>\n",
              "      <td>2018-01-14 00:21:46.000000</td>\n",
              "      <td>1499535090661134336</td>\n",
              "      <td>2022-03-04 00:00:00</td>\n",
              "      <td>1</td>\n",
              "      <td>Their bloods are on the Russian hands.\\nMilita...</td>\n",
              "      <td>[{'text': 'Mariupol', 'indices': [77, 86]}, {'...</td>\n",
              "      <td>en</td>\n",
              "      <td>NaN</td>\n",
              "      <td>0</td>\n",
              "      <td>2022-03-04 00:01:56.527344</td>\n",
              "    </tr>\n",
              "    <tr>\n",
              "      <th>1378361</th>\n",
              "      <td>1496695221366759427</td>\n",
              "      <td>thewelshtudor</td>\n",
              "      <td>Pub quiz aficionado. Beer, whisky, BBQ enthusi...</td>\n",
              "      <td>Manchester, England</td>\n",
              "      <td>20</td>\n",
              "      <td>12</td>\n",
              "      <td>809</td>\n",
              "      <td>2022-02-24 03:55:38.000000</td>\n",
              "      <td>1499535090677948419</td>\n",
              "      <td>2022-03-04 00:00:00</td>\n",
              "      <td>265</td>\n",
              "      <td>9:32 pm in #Ukraine. \\n\\nMy colleague from Sum...</td>\n",
              "      <td>[{'text': 'Ukraine', 'indices': [30, 38]}]</td>\n",
              "      <td>en</td>\n",
              "      <td>NaN</td>\n",
              "      <td>0</td>\n",
              "      <td>2022-03-04 00:01:56.519788</td>\n",
              "    </tr>\n",
              "  </tbody>\n",
              "</table>\n",
              "</div>\n",
              "      <button class=\"colab-df-convert\" onclick=\"convertToInteractive('df-6f52824b-db9f-4987-bcb7-19e6cf016962')\"\n",
              "              title=\"Convert this dataframe to an interactive table.\"\n",
              "              style=\"display:none;\">\n",
              "        \n",
              "  <svg xmlns=\"http://www.w3.org/2000/svg\" height=\"24px\"viewBox=\"0 0 24 24\"\n",
              "       width=\"24px\">\n",
              "    <path d=\"M0 0h24v24H0V0z\" fill=\"none\"/>\n",
              "    <path d=\"M18.56 5.44l.94 2.06.94-2.06 2.06-.94-2.06-.94-.94-2.06-.94 2.06-2.06.94zm-11 1L8.5 8.5l.94-2.06 2.06-.94-2.06-.94L8.5 2.5l-.94 2.06-2.06.94zm10 10l.94 2.06.94-2.06 2.06-.94-2.06-.94-.94-2.06-.94 2.06-2.06.94z\"/><path d=\"M17.41 7.96l-1.37-1.37c-.4-.4-.92-.59-1.43-.59-.52 0-1.04.2-1.43.59L10.3 9.45l-7.72 7.72c-.78.78-.78 2.05 0 2.83L4 21.41c.39.39.9.59 1.41.59.51 0 1.02-.2 1.41-.59l7.78-7.78 2.81-2.81c.8-.78.8-2.07 0-2.86zM5.41 20L4 18.59l7.72-7.72 1.47 1.35L5.41 20z\"/>\n",
              "  </svg>\n",
              "      </button>\n",
              "      \n",
              "  <style>\n",
              "    .colab-df-container {\n",
              "      display:flex;\n",
              "      flex-wrap:wrap;\n",
              "      gap: 12px;\n",
              "    }\n",
              "\n",
              "    .colab-df-convert {\n",
              "      background-color: #E8F0FE;\n",
              "      border: none;\n",
              "      border-radius: 50%;\n",
              "      cursor: pointer;\n",
              "      display: none;\n",
              "      fill: #1967D2;\n",
              "      height: 32px;\n",
              "      padding: 0 0 0 0;\n",
              "      width: 32px;\n",
              "    }\n",
              "\n",
              "    .colab-df-convert:hover {\n",
              "      background-color: #E2EBFA;\n",
              "      box-shadow: 0px 1px 2px rgba(60, 64, 67, 0.3), 0px 1px 3px 1px rgba(60, 64, 67, 0.15);\n",
              "      fill: #174EA6;\n",
              "    }\n",
              "\n",
              "    [theme=dark] .colab-df-convert {\n",
              "      background-color: #3B4455;\n",
              "      fill: #D2E3FC;\n",
              "    }\n",
              "\n",
              "    [theme=dark] .colab-df-convert:hover {\n",
              "      background-color: #434B5C;\n",
              "      box-shadow: 0px 1px 3px 1px rgba(0, 0, 0, 0.15);\n",
              "      filter: drop-shadow(0px 1px 2px rgba(0, 0, 0, 0.3));\n",
              "      fill: #FFFFFF;\n",
              "    }\n",
              "  </style>\n",
              "\n",
              "      <script>\n",
              "        const buttonEl =\n",
              "          document.querySelector('#df-6f52824b-db9f-4987-bcb7-19e6cf016962 button.colab-df-convert');\n",
              "        buttonEl.style.display =\n",
              "          google.colab.kernel.accessAllowed ? 'block' : 'none';\n",
              "\n",
              "        async function convertToInteractive(key) {\n",
              "          const element = document.querySelector('#df-6f52824b-db9f-4987-bcb7-19e6cf016962');\n",
              "          const dataTable =\n",
              "            await google.colab.kernel.invokeFunction('convertToInteractive',\n",
              "                                                     [key], {});\n",
              "          if (!dataTable) return;\n",
              "\n",
              "          const docLinkHtml = 'Like what you see? Visit the ' +\n",
              "            '<a target=\"_blank\" href=https://colab.research.google.com/notebooks/data_table.ipynb>data table notebook</a>'\n",
              "            + ' to learn more about interactive tables.';\n",
              "          element.innerHTML = '';\n",
              "          dataTable['output_type'] = 'display_data';\n",
              "          await google.colab.output.renderOutput(dataTable, element);\n",
              "          const docLink = document.createElement('div');\n",
              "          docLink.innerHTML = docLinkHtml;\n",
              "          element.appendChild(docLink);\n",
              "        }\n",
              "      </script>\n",
              "    </div>\n",
              "  </div>\n",
              "  "
            ]
          },
          "metadata": {},
          "execution_count": 52
        }
      ],
      "source": [
        "df.head()"
      ]
    },
    {
      "cell_type": "markdown",
      "source": [
        "### Top 100 tweets"
      ],
      "metadata": {
        "id": "jli65FDQ3obl"
      }
    },
    {
      "cell_type": "code",
      "execution_count": 19,
      "metadata": {
        "colab": {
          "base_uri": "https://localhost:8080/",
          "height": 350
        },
        "id": "dpwaXZWlqF8v",
        "outputId": "2ffb7e35-4121-4cc4-da0a-d047fc5352f8"
      },
      "outputs": [
        {
          "output_type": "display_data",
          "data": {
            "text/plain": [
              "<Figure size 1296x360 with 1 Axes>"
            ],
            "image/png": "[encoded data removed]"
          },
          "metadata": {
            "needs_background": "light"
          }
        }
      ],
      "source": [
        "top_100_tweets_count = df[\"userid\"].value_counts().nlargest(100)\n",
        "\n",
        "plt.figure(figsize=(18,5))\n",
        "plt.hist(top_100_tweets_count,bins=20,color='blue')\n",
        "plt.ylabel('Count')\n",
        "plt.xlabel('# Tweets Per User')\n",
        "plt.title('Number of Tweets from Top 100 users')\n",
        "plt.show()"
      ]
    },
    {
      "cell_type": "markdown",
      "metadata": {
        "id": "ZMRa9JD518x0"
      },
      "source": [
        "30-40 tweets per person"
      ]
    },
    {
      "cell_type": "markdown",
      "source": [
        "### Sentiment Score"
      ],
      "metadata": {
        "id": "k0qUD3jf3h-7"
      }
    },
    {
      "cell_type": "code",
      "execution_count": 15,
      "metadata": {
        "colab": {
          "base_uri": "https://localhost:8080/"
        },
        "id": "rsrzJDjVauLB",
        "outputId": "ae8788cf-5045-491d-874c-34dc976cc137"
      },
      "outputs": [
        {
          "output_type": "execute_result",
          "data": {
            "text/plain": [
              "<bound method NDFrame._add_numeric_operations.<locals>.any of                       userid         username  \\\n",
              "1378357   962159694046523392  CuttingEdgeDino   \n",
              "1378358  1407899290790473732     SectionChine   \n",
              "1378359   770039615550021632     Valentinmsn2   \n",
              "1378360   952334892003680257      ShaunaO2011   \n",
              "1378361  1496695221366759427    thewelshtudor   \n",
              "...                      ...              ...   \n",
              "140379              17185461         cratylus   \n",
              "140380            3314420144          DyNEn_L   \n",
              "140381    979378741884407810       son_sonnnn   \n",
              "140382             324746604        OS_Beaver   \n",
              "140383            2770429273  quovadisschland   \n",
              "\n",
              "                                                  acctdesc  \\\n",
              "1378357          Always thinking, -Let's Go Brandon!- #LGB   \n",
              "1378358  Infos sans préjugés sur la Chine, avec une dom...   \n",
              "1378359                                        Chtx/Angers   \n",
              "1378360                                                NaN   \n",
              "1378361  Pub quiz aficionado. Beer, whisky, BBQ enthusi...   \n",
              "...                                                    ...   \n",
              "140379   Programmer interested in Philosophy,Maths and ...   \n",
              "140380   ก็รักไปแล้ว จะให้กูทำยังไง🍋🍊\\nสถานะ:ตายในหน้าท...   \n",
              "140381                                                 NaN   \n",
              "140382   Huge Oregon State Beavers fan!  Time for the R...   \n",
              "140383   WIR,Franzl,Kaiser v.Österreich u.König v.Ungar...   \n",
              "\n",
              "                    location  following  followers  totaltweets  \\\n",
              "1378357                  NaN        429        205         7624   \n",
              "1378358                  NaN       1234       1223          162   \n",
              "1378359       Angers, France        282        244         9053   \n",
              "1378360                  NaN       1373        266        18115   \n",
              "1378361  Manchester, England         20         12          809   \n",
              "...                      ...        ...        ...          ...   \n",
              "140379      Perth, Australia        661        955        13348   \n",
              "140380        หาเจอได้ตามป่า        472        106        95050   \n",
              "140381                   NaN        158         13          576   \n",
              "140382                Oregon       2813        392         7459   \n",
              "140383           Deutschland        838        440        37737   \n",
              "\n",
              "                      usercreatedts              tweetid       tweetcreatedts  \\\n",
              "1378357  2018-02-10 03:02:01.000000  1499535089977282566  2022-03-04 00:00:00   \n",
              "1378358  2021-06-24 06:06:32.000000  1499535090279272486  2022-03-04 00:00:00   \n",
              "1378359  2016-08-28 23:25:26.000000  1499535090505949186  2022-03-04 00:00:00   \n",
              "1378360  2018-01-14 00:21:46.000000  1499535090661134336  2022-03-04 00:00:00   \n",
              "1378361  2022-02-24 03:55:38.000000  1499535090677948419  2022-03-04 00:00:00   \n",
              "...                             ...                  ...                  ...   \n",
              "140379   2008-11-05 09:20:13.000000  1498440721015078914  2022-02-28 23:31:22   \n",
              "140380   2015-08-13 14:26:37.000000  1498440721019600897  2022-02-28 23:31:22   \n",
              "140381   2018-03-29 15:24:22.000000  1498440721157787648  2022-02-28 23:31:22   \n",
              "140382   2011-06-27 04:24:42.000000  1498440721459679234  2022-02-28 23:31:22   \n",
              "140383   2014-08-26 16:32:10.000000  1498440722235772935  2022-02-28 23:31:22   \n",
              "\n",
              "         retweetcount                                               text  \\\n",
              "1378357             0  @SenFeinstein you and your #oligarch cronies (...   \n",
              "1378358             0  La crise en #Ukraine a déplacé la stratégie du...   \n",
              "1378359           883  Vous doutez de notre force de dissuasion ? #Uk...   \n",
              "1378360             1  Their bloods are on the Russian hands.\\nMilita...   \n",
              "1378361           265  9:32 pm in #Ukraine. \\n\\nMy colleague from Sum...   \n",
              "...               ...                                                ...   \n",
              "140379              9  ✍️The fifth day of Russian Invasion - summary ...   \n",
              "140380           4199  สวิสเซอร์แลนด์หยุดเป็นกลาง\\nอายัดทรัพย์สินปูติ...   \n",
              "140381             12  🇺🇦 Как работают диверсионные маячки!\\n\\n#Украи...   \n",
              "140382            597  Mayor of Kharkiv: many dead and wounded during...   \n",
              "140383             11  Mehrheit der Finnen ist für #NATO-Beitritt Fin...   \n",
              "\n",
              "                                                  hashtags language  \\\n",
              "1378357  [{'text': 'oligarch', 'indices': [27, 36]}, {'...       en   \n",
              "1378358  [{'text': 'Ukraine', 'indices': [12, 20]}, {'t...       fr   \n",
              "1378359         [{'text': 'Ukraine', 'indices': [61, 69]}]       fr   \n",
              "1378360  [{'text': 'Mariupol', 'indices': [77, 86]}, {'...       en   \n",
              "1378361         [{'text': 'Ukraine', 'indices': [30, 38]}]       en   \n",
              "...                                                    ...      ...   \n",
              "140379                                                  []       en   \n",
              "140380                                                  []       th   \n",
              "140381   [{'text': 'Украина', 'indices': [54, 62]}, {'t...       ru   \n",
              "140382                                                  []       en   \n",
              "140383   [{'text': 'NATO', 'indices': [47, 52]}, {'text...       de   \n",
              "\n",
              "        coordinates  favorite_count                 extractedts  \n",
              "1378357         NaN               0  2022-03-04 00:01:56.550039  \n",
              "1378358         NaN               0  2022-03-04 00:01:56.542631  \n",
              "1378359         NaN               0  2022-03-04 00:01:56.535210  \n",
              "1378360         NaN               0  2022-03-04 00:01:56.527344  \n",
              "1378361         NaN               0  2022-03-04 00:01:56.519788  \n",
              "...             ...             ...                         ...  \n",
              "140379          NaN               0  2022-02-28 23:32:03.485217  \n",
              "140380          NaN               0  2022-02-28 23:32:03.470264  \n",
              "140381          NaN               0  2022-02-28 23:32:03.463382  \n",
              "140382          NaN               0  2022-02-28 23:32:03.448230  \n",
              "140383          NaN               0  2022-02-28 23:32:03.432742  \n",
              "\n",
              "[2444828 rows x 17 columns]>"
            ]
          },
          "metadata": {},
          "execution_count": 15
        }
      ],
      "source": [
        "df.drop_duplicates().any"
      ]
    },
    {
      "cell_type": "code",
      "execution_count": 16,
      "metadata": {
        "colab": {
          "base_uri": "https://localhost:8080/"
        },
        "id": "CpDb3v6OaBsw",
        "outputId": "dbdbb3df-4fc4-4960-8e38-b211755638e2"
      },
      "outputs": [
        {
          "output_type": "execute_result",
          "data": {
            "text/plain": [
              "1378357    en\n",
              "1378358    fr\n",
              "1378359    fr\n",
              "1378360    en\n",
              "1378361    en\n",
              "           ..\n",
              "140379     en\n",
              "140380     th\n",
              "140381     ru\n",
              "140382     en\n",
              "140383     de\n",
              "Name: language, Length: 2444828, dtype: object"
            ]
          },
          "metadata": {},
          "execution_count": 16
        }
      ],
      "source": [
        "col=df['language']\n",
        "col"
      ]
    },
    {
      "cell_type": "code",
      "execution_count": 17,
      "metadata": {
        "colab": {
          "base_uri": "https://localhost:8080/",
          "height": 404
        },
        "id": "WKyMPQLzZ6L7",
        "outputId": "1169057a-cb19-477d-beaa-373a5d8fa8db"
      },
      "outputs": [
        {
          "output_type": "display_data",
          "data": {
            "text/plain": [
              "<Figure size 864x432 with 1 Axes>"
            ],
            "image/png": "[encoded data removed]"
          },
          "metadata": {
            "needs_background": "light"
          }
        }
      ],
      "source": [
        "language_counts = df.groupby(\"language\").size().sort_values(ascending=False)[0:20].plot.bar(figsize=(12,6),\n",
        "                                                                                         title=\"Top 20 Languages\",\n",
        "                                                                                         xlabel=\"Language\",\n",
        "                                                                                         ylabel=\"Number of Tweets\",\n",
        "                                                                                         rot=90\n",
        "                                                                                         );\n",
        "\n",
        "plt.xticks(rotation=0)\n",
        "plt.show()"
      ]
    },
    {
      "cell_type": "code",
      "execution_count": 18,
      "metadata": {
        "colab": {
          "base_uri": "https://localhost:8080/",
          "height": 356
        },
        "id": "TXl1ojlcbaOt",
        "outputId": "ea30cfe2-b76c-4dc5-e1cc-62ef4c6add8d"
      },
      "outputs": [
        {
          "output_type": "execute_result",
          "data": {
            "text/plain": [
              "<matplotlib.axes._subplots.AxesSubplot at 0x7f5e85f8c850>"
            ]
          },
          "metadata": {},
          "execution_count": 18
        },
        {
          "output_type": "display_data",
          "data": {
            "text/plain": [
              "<Figure size 432x288 with 1 Axes>"
            ],
            "image/png": "[encoded data removed]"
          },
          "metadata": {
            "needs_background": "light"
          }
        }
      ],
      "source": [
        "df.location.value_counts()[:5].plot.bar()"
      ]
    },
    {
      "cell_type": "markdown",
      "source": [
        "###Hashtags"
      ],
      "metadata": {
        "id": "PYZEifZL3Zs9"
      }
    },
    {
      "cell_type": "code",
      "execution_count": 21,
      "metadata": {
        "colab": {
          "base_uri": "https://localhost:8080/"
        },
        "id": "fijL95Vdc0DJ",
        "outputId": "041d98ec-2395-49f9-eef2-882fb1f2b53b"
      },
      "outputs": [
        {
          "output_type": "stream",
          "name": "stdout",
          "text": [
            "Looking in indexes: https://pypi.org/simple, https://us-python.pkg.dev/colab-wheels/public/simple/\n",
            "Collecting unidecode\n",
            "  Downloading Unidecode-1.3.4-py3-none-any.whl (235 kB)\n",
            "\u001b[K     |████████████████████████████████| 235 kB 5.2 MB/s \n",
            "\u001b[?25hInstalling collected packages: unidecode\n",
            "Successfully installed unidecode-1.3.4\n"
          ]
        }
      ],
      "source": [
        "!pip install unidecode"
      ]
    },
    {
      "cell_type": "code",
      "execution_count": 22,
      "metadata": {
        "id": "b7xsYUNdclHy"
      },
      "outputs": [],
      "source": [
        "from unidecode import unidecode\n",
        "def evaluate_hashtags(x):\n",
        "    hashtags = []\n",
        "    \n",
        "    a = eval(str(x))\n",
        "    \n",
        "    for item in a:\n",
        "        hashtags.append((str(unidecode(item[\"text\"])).lower()))\n",
        "        hashtags = list(set(hashtags))\n",
        "        \n",
        "    return hashtags"
      ]
    },
    {
      "cell_type": "code",
      "execution_count": 23,
      "metadata": {
        "id": "9qCBJVXice5M"
      },
      "outputs": [],
      "source": [
        "masterlist = []\n",
        "hashtagsListCollection = df[\"hashtags\"].apply(evaluate_hashtags)\n",
        "\n",
        "for hashtagsList in hashtagsListCollection:\n",
        "    for hashtag in hashtagsList:\n",
        "        masterlist.append(hashtag)"
      ]
    },
    {
      "cell_type": "code",
      "execution_count": 24,
      "metadata": {
        "id": "d3crEOUNdHW6"
      },
      "outputs": [],
      "source": [
        "topXItem = 25\n",
        "from collections import Counter\n",
        "\n",
        "x = Counter(masterlist)\n",
        "\n",
        "topXItemList = x.most_common(topXItem)"
      ]
    },
    {
      "cell_type": "code",
      "execution_count": 25,
      "metadata": {
        "colab": {
          "base_uri": "https://localhost:8080/",
          "height": 833
        },
        "id": "FMNle1NEdOkU",
        "outputId": "3ddfddfc-f0aa-4b8f-8dca-33ae34590a1f"
      },
      "outputs": [
        {
          "output_type": "execute_result",
          "data": {
            "text/plain": [
              "                  Hashtag    text\n",
              "0                 ukraine  920862\n",
              "1                  russia  390948\n",
              "2                   putin  306817\n",
              "3                    kyiv   97176\n",
              "4               stopputin   90674\n",
              "5        ukrainerussiawar   84151\n",
              "6        russiaukrainewar   75482\n",
              "7           ukrainerussia   73985\n",
              "8                 russian   65164\n",
              "9      safeairliftukraine   64434\n",
              "10                   nato   62812\n",
              "11  russiaukraineconflict   58791\n",
              "12               yuuekhrn   57775\n",
              "13     ukraineunderattack   57389\n",
              "14       standwithukraine   54417\n",
              "15                ucrania   53728\n",
              "16              anonymous   51688\n",
              "17             ukrainewar   49658\n",
              "18                   kiev   46129\n",
              "19                  wwiii   41633\n",
              "20              worldwar3   38479\n",
              "21          russiaukraine   35034\n",
              "22        ukraineinvasion   31535\n",
              "23              ukrainian   30786\n",
              "24               zelensky   30725"
            ],
            "text/html": [
              "\n",
              "  <div id=\"df-6f9ccab7-6f4c-4945-9b01-203f03bad9f9\">\n",
              "    <div class=\"colab-df-container\">\n",
              "      <div>\n",
              "<style scoped>\n",
              "    .dataframe tbody tr th:only-of-type {\n",
              "        vertical-align: middle;\n",
              "    }\n",
              "\n",
              "    .dataframe tbody tr th {\n",
              "        vertical-align: top;\n",
              "    }\n",
              "\n",
              "    .dataframe thead th {\n",
              "        text-align: right;\n",
              "    }\n",
              "</style>\n",
              "<table border=\"1\" class=\"dataframe\">\n",
              "  <thead>\n",
              "    <tr style=\"text-align: right;\">\n",
              "      <th></th>\n",
              "      <th>Hashtag</th>\n",
              "      <th>text</th>\n",
              "    </tr>\n",
              "  </thead>\n",
              "  <tbody>\n",
              "    <tr>\n",
              "      <th>0</th>\n",
              "      <td>ukraine</td>\n",
              "      <td>920862</td>\n",
              "    </tr>\n",
              "    <tr>\n",
              "      <th>1</th>\n",
              "      <td>russia</td>\n",
              "      <td>390948</td>\n",
              "    </tr>\n",
              "    <tr>\n",
              "      <th>2</th>\n",
              "      <td>putin</td>\n",
              "      <td>306817</td>\n",
              "    </tr>\n",
              "    <tr>\n",
              "      <th>3</th>\n",
              "      <td>kyiv</td>\n",
              "      <td>97176</td>\n",
              "    </tr>\n",
              "    <tr>\n",
              "      <th>4</th>\n",
              "      <td>stopputin</td>\n",
              "      <td>90674</td>\n",
              "    </tr>\n",
              "    <tr>\n",
              "      <th>5</th>\n",
              "      <td>ukrainerussiawar</td>\n",
              "      <td>84151</td>\n",
              "    </tr>\n",
              "    <tr>\n",
              "      <th>6</th>\n",
              "      <td>russiaukrainewar</td>\n",
              "      <td>75482</td>\n",
              "    </tr>\n",
              "    <tr>\n",
              "      <th>7</th>\n",
              "      <td>ukrainerussia</td>\n",
              "      <td>73985</td>\n",
              "    </tr>\n",
              "    <tr>\n",
              "      <th>8</th>\n",
              "      <td>russian</td>\n",
              "      <td>65164</td>\n",
              "    </tr>\n",
              "    <tr>\n",
              "      <th>9</th>\n",
              "      <td>safeairliftukraine</td>\n",
              "      <td>64434</td>\n",
              "    </tr>\n",
              "    <tr>\n",
              "      <th>10</th>\n",
              "      <td>nato</td>\n",
              "      <td>62812</td>\n",
              "    </tr>\n",
              "    <tr>\n",
              "      <th>11</th>\n",
              "      <td>russiaukraineconflict</td>\n",
              "      <td>58791</td>\n",
              "    </tr>\n",
              "    <tr>\n",
              "      <th>12</th>\n",
              "      <td>yuuekhrn</td>\n",
              "      <td>57775</td>\n",
              "    </tr>\n",
              "    <tr>\n",
              "      <th>13</th>\n",
              "      <td>ukraineunderattack</td>\n",
              "      <td>57389</td>\n",
              "    </tr>\n",
              "    <tr>\n",
              "      <th>14</th>\n",
              "      <td>standwithukraine</td>\n",
              "      <td>54417</td>\n",
              "    </tr>\n",
              "    <tr>\n",
              "      <th>15</th>\n",
              "      <td>ucrania</td>\n",
              "      <td>53728</td>\n",
              "    </tr>\n",
              "    <tr>\n",
              "      <th>16</th>\n",
              "      <td>anonymous</td>\n",
              "      <td>51688</td>\n",
              "    </tr>\n",
              "    <tr>\n",
              "      <th>17</th>\n",
              "      <td>ukrainewar</td>\n",
              "      <td>49658</td>\n",
              "    </tr>\n",
              "    <tr>\n",
              "      <th>18</th>\n",
              "      <td>kiev</td>\n",
              "      <td>46129</td>\n",
              "    </tr>\n",
              "    <tr>\n",
              "      <th>19</th>\n",
              "      <td>wwiii</td>\n",
              "      <td>41633</td>\n",
              "    </tr>\n",
              "    <tr>\n",
              "      <th>20</th>\n",
              "      <td>worldwar3</td>\n",
              "      <td>38479</td>\n",
              "    </tr>\n",
              "    <tr>\n",
              "      <th>21</th>\n",
              "      <td>russiaukraine</td>\n",
              "      <td>35034</td>\n",
              "    </tr>\n",
              "    <tr>\n",
              "      <th>22</th>\n",
              "      <td>ukraineinvasion</td>\n",
              "      <td>31535</td>\n",
              "    </tr>\n",
              "    <tr>\n",
              "      <th>23</th>\n",
              "      <td>ukrainian</td>\n",
              "      <td>30786</td>\n",
              "    </tr>\n",
              "    <tr>\n",
              "      <th>24</th>\n",
              "      <td>zelensky</td>\n",
              "      <td>30725</td>\n",
              "    </tr>\n",
              "  </tbody>\n",
              "</table>\n",
              "</div>\n",
              "      <button class=\"colab-df-convert\" onclick=\"convertToInteractive('df-6f9ccab7-6f4c-4945-9b01-203f03bad9f9')\"\n",
              "              title=\"Convert this dataframe to an interactive table.\"\n",
              "              style=\"display:none;\">\n",
              "        \n",
              "  <svg xmlns=\"http://www.w3.org/2000/svg\" height=\"24px\"viewBox=\"0 0 24 24\"\n",
              "       width=\"24px\">\n",
              "    <path d=\"M0 0h24v24H0V0z\" fill=\"none\"/>\n",
              "    <path d=\"M18.56 5.44l.94 2.06.94-2.06 2.06-.94-2.06-.94-.94-2.06-.94 2.06-2.06.94zm-11 1L8.5 8.5l.94-2.06 2.06-.94-2.06-.94L8.5 2.5l-.94 2.06-2.06.94zm10 10l.94 2.06.94-2.06 2.06-.94-2.06-.94-.94-2.06-.94 2.06-2.06.94z\"/><path d=\"M17.41 7.96l-1.37-1.37c-.4-.4-.92-.59-1.43-.59-.52 0-1.04.2-1.43.59L10.3 9.45l-7.72 7.72c-.78.78-.78 2.05 0 2.83L4 21.41c.39.39.9.59 1.41.59.51 0 1.02-.2 1.41-.59l7.78-7.78 2.81-2.81c.8-.78.8-2.07 0-2.86zM5.41 20L4 18.59l7.72-7.72 1.47 1.35L5.41 20z\"/>\n",
              "  </svg>\n",
              "      </button>\n",
              "      \n",
              "  <style>\n",
              "    .colab-df-container {\n",
              "      display:flex;\n",
              "      flex-wrap:wrap;\n",
              "      gap: 12px;\n",
              "    }\n",
              "\n",
              "    .colab-df-convert {\n",
              "      background-color: #E8F0FE;\n",
              "      border: none;\n",
              "      border-radius: 50%;\n",
              "      cursor: pointer;\n",
              "      display: none;\n",
              "      fill: #1967D2;\n",
              "      height: 32px;\n",
              "      padding: 0 0 0 0;\n",
              "      width: 32px;\n",
              "    }\n",
              "\n",
              "    .colab-df-convert:hover {\n",
              "      background-color: #E2EBFA;\n",
              "      box-shadow: 0px 1px 2px rgba(60, 64, 67, 0.3), 0px 1px 3px 1px rgba(60, 64, 67, 0.15);\n",
              "      fill: #174EA6;\n",
              "    }\n",
              "\n",
              "    [theme=dark] .colab-df-convert {\n",
              "      background-color: #3B4455;\n",
              "      fill: #D2E3FC;\n",
              "    }\n",
              "\n",
              "    [theme=dark] .colab-df-convert:hover {\n",
              "      background-color: #434B5C;\n",
              "      box-shadow: 0px 1px 3px 1px rgba(0, 0, 0, 0.15);\n",
              "      filter: drop-shadow(0px 1px 2px rgba(0, 0, 0, 0.3));\n",
              "      fill: #FFFFFF;\n",
              "    }\n",
              "  </style>\n",
              "\n",
              "      <script>\n",
              "        const buttonEl =\n",
              "          document.querySelector('#df-6f9ccab7-6f4c-4945-9b01-203f03bad9f9 button.colab-df-convert');\n",
              "        buttonEl.style.display =\n",
              "          google.colab.kernel.accessAllowed ? 'block' : 'none';\n",
              "\n",
              "        async function convertToInteractive(key) {\n",
              "          const element = document.querySelector('#df-6f9ccab7-6f4c-4945-9b01-203f03bad9f9');\n",
              "          const dataTable =\n",
              "            await google.colab.kernel.invokeFunction('convertToInteractive',\n",
              "                                                     [key], {});\n",
              "          if (!dataTable) return;\n",
              "\n",
              "          const docLinkHtml = 'Like what you see? Visit the ' +\n",
              "            '<a target=\"_blank\" href=https://colab.research.google.com/notebooks/data_table.ipynb>data table notebook</a>'\n",
              "            + ' to learn more about interactive tables.';\n",
              "          element.innerHTML = '';\n",
              "          dataTable['output_type'] = 'display_data';\n",
              "          await google.colab.output.renderOutput(dataTable, element);\n",
              "          const docLink = document.createElement('div');\n",
              "          docLink.innerHTML = docLinkHtml;\n",
              "          element.appendChild(docLink);\n",
              "        }\n",
              "      </script>\n",
              "    </div>\n",
              "  </div>\n",
              "  "
            ]
          },
          "metadata": {},
          "execution_count": 25
        }
      ],
      "source": [
        "df1 = pd.DataFrame(topXItemList)\n",
        "df1.columns =['Hashtag','text']\n",
        "df1"
      ]
    },
    {
      "cell_type": "code",
      "source": [
        "!pip install advertools"
      ],
      "metadata": {
        "colab": {
          "base_uri": "https://localhost:8080/"
        },
        "id": "D-s8DfkW28zL",
        "outputId": "66d9df6e-0a21-472a-eb59-eb52fa6f3a4f"
      },
      "execution_count": 73,
      "outputs": [
        {
          "output_type": "stream",
          "name": "stdout",
          "text": [
            "Looking in indexes: https://pypi.org/simple, https://us-python.pkg.dev/colab-wheels/public/simple/\n",
            "Collecting advertools\n",
            "  Downloading advertools-0.13.1-py2.py3-none-any.whl (309 kB)\n",
            "\u001b[K     |████████████████████████████████| 309 kB 4.9 MB/s \n",
            "\u001b[?25hRequirement already satisfied: pyasn1 in /usr/local/lib/python3.7/dist-packages (from advertools) (0.4.8)\n",
            "Requirement already satisfied: pyarrow in /usr/local/lib/python3.7/dist-packages (from advertools) (6.0.1)\n",
            "Requirement already satisfied: pandas in /usr/local/lib/python3.7/dist-packages (from advertools) (1.3.5)\n",
            "Collecting twython\n",
            "  Downloading twython-3.9.1-py3-none-any.whl (33 kB)\n",
            "Collecting scrapy\n",
            "  Downloading Scrapy-2.6.1-py2.py3-none-any.whl (264 kB)\n",
            "\u001b[K     |████████████████████████████████| 264 kB 42.1 MB/s \n",
            "\u001b[?25hRequirement already satisfied: numpy>=1.17.3 in /usr/local/lib/python3.7/dist-packages (from pandas->advertools) (1.21.6)\n",
            "Requirement already satisfied: python-dateutil>=2.7.3 in /usr/local/lib/python3.7/dist-packages (from pandas->advertools) (2.8.2)\n",
            "Requirement already satisfied: pytz>=2017.3 in /usr/local/lib/python3.7/dist-packages (from pandas->advertools) (2022.1)\n",
            "Requirement already satisfied: six>=1.5 in /usr/local/lib/python3.7/dist-packages (from python-dateutil>=2.7.3->pandas->advertools) (1.15.0)\n",
            "Collecting service-identity>=16.0.0\n",
            "  Downloading service_identity-21.1.0-py2.py3-none-any.whl (12 kB)\n",
            "Collecting itemadapter>=0.1.0\n",
            "  Downloading itemadapter-0.6.0-py3-none-any.whl (10 kB)\n",
            "Requirement already satisfied: lxml>=3.5.0 in /usr/local/lib/python3.7/dist-packages (from scrapy->advertools) (4.2.6)\n",
            "Collecting PyDispatcher>=2.0.5\n",
            "  Downloading PyDispatcher-2.0.5.zip (47 kB)\n",
            "\u001b[K     |████████████████████████████████| 47 kB 4.0 MB/s \n",
            "\u001b[?25hCollecting cryptography>=2.0\n",
            "  Downloading cryptography-37.0.2-cp36-abi3-manylinux_2_24_x86_64.whl (4.0 MB)\n",
            "\u001b[K     |████████████████████████████████| 4.0 MB 51.9 MB/s \n",
            "\u001b[?25hCollecting itemloaders>=1.0.1\n",
            "  Downloading itemloaders-1.0.4-py3-none-any.whl (11 kB)\n",
            "Collecting pyOpenSSL>=16.2.0\n",
            "  Downloading pyOpenSSL-22.0.0-py2.py3-none-any.whl (55 kB)\n",
            "\u001b[K     |████████████████████████████████| 55 kB 1.9 MB/s \n",
            "\u001b[?25hCollecting w3lib>=1.17.0\n",
            "  Downloading w3lib-1.22.0-py2.py3-none-any.whl (20 kB)\n",
            "Collecting parsel>=1.5.0\n",
            "  Downloading parsel-1.6.0-py2.py3-none-any.whl (13 kB)\n",
            "Collecting Twisted>=17.9.0\n",
            "  Downloading Twisted-22.4.0-py3-none-any.whl (3.1 MB)\n",
            "\u001b[K     |████████████████████████████████| 3.1 MB 34.9 MB/s \n",
            "\u001b[?25hRequirement already satisfied: setuptools in /usr/local/lib/python3.7/dist-packages (from scrapy->advertools) (57.4.0)\n",
            "Collecting protego>=0.1.15\n",
            "  Downloading Protego-0.2.1-py2.py3-none-any.whl (8.2 kB)\n",
            "Collecting cssselect>=0.9.1\n",
            "  Downloading cssselect-1.1.0-py2.py3-none-any.whl (16 kB)\n",
            "Collecting tldextract\n",
            "  Downloading tldextract-3.3.0-py3-none-any.whl (93 kB)\n",
            "\u001b[K     |████████████████████████████████| 93 kB 1.5 MB/s \n",
            "\u001b[?25hCollecting queuelib>=1.4.2\n",
            "  Downloading queuelib-1.6.2-py2.py3-none-any.whl (13 kB)\n",
            "Collecting zope.interface>=4.1.3\n",
            "  Downloading zope.interface-5.4.0-cp37-cp37m-manylinux2010_x86_64.whl (251 kB)\n",
            "\u001b[K     |████████████████████████████████| 251 kB 56.3 MB/s \n",
            "\u001b[?25hRequirement already satisfied: cffi>=1.12 in /usr/local/lib/python3.7/dist-packages (from cryptography>=2.0->scrapy->advertools) (1.15.0)\n",
            "Requirement already satisfied: pycparser in /usr/local/lib/python3.7/dist-packages (from cffi>=1.12->cryptography>=2.0->scrapy->advertools) (2.21)\n",
            "Collecting jmespath>=0.9.5\n",
            "  Downloading jmespath-1.0.1-py3-none-any.whl (20 kB)\n",
            "Requirement already satisfied: attrs>=19.1.0 in /usr/local/lib/python3.7/dist-packages (from service-identity>=16.0.0->scrapy->advertools) (21.4.0)\n",
            "Requirement already satisfied: pyasn1-modules in /usr/local/lib/python3.7/dist-packages (from service-identity>=16.0.0->scrapy->advertools) (0.2.8)\n",
            "Collecting Automat>=0.8.0\n",
            "  Downloading Automat-20.2.0-py2.py3-none-any.whl (31 kB)\n",
            "Collecting constantly>=15.1\n",
            "  Downloading constantly-15.1.0-py2.py3-none-any.whl (7.9 kB)\n",
            "Collecting hyperlink>=17.1.1\n",
            "  Downloading hyperlink-21.0.0-py2.py3-none-any.whl (74 kB)\n",
            "\u001b[K     |████████████████████████████████| 74 kB 3.0 MB/s \n",
            "\u001b[?25hCollecting incremental>=21.3.0\n",
            "  Downloading incremental-21.3.0-py2.py3-none-any.whl (15 kB)\n",
            "Requirement already satisfied: typing-extensions>=3.6.5 in /usr/local/lib/python3.7/dist-packages (from Twisted>=17.9.0->scrapy->advertools) (4.1.1)\n",
            "Requirement already satisfied: idna>=2.5 in /usr/local/lib/python3.7/dist-packages (from hyperlink>=17.1.1->Twisted>=17.9.0->scrapy->advertools) (2.10)\n",
            "Collecting requests-file>=1.4\n",
            "  Downloading requests_file-1.5.1-py2.py3-none-any.whl (3.7 kB)\n",
            "Requirement already satisfied: filelock>=3.0.8 in /usr/local/lib/python3.7/dist-packages (from tldextract->scrapy->advertools) (3.7.1)\n",
            "Requirement already satisfied: requests>=2.1.0 in /usr/local/lib/python3.7/dist-packages (from tldextract->scrapy->advertools) (2.23.0)\n",
            "Requirement already satisfied: chardet<4,>=3.0.2 in /usr/local/lib/python3.7/dist-packages (from requests>=2.1.0->tldextract->scrapy->advertools) (3.0.4)\n",
            "Requirement already satisfied: urllib3!=1.25.0,!=1.25.1,<1.26,>=1.21.1 in /usr/local/lib/python3.7/dist-packages (from requests>=2.1.0->tldextract->scrapy->advertools) (1.24.3)\n",
            "Requirement already satisfied: certifi>=2017.4.17 in /usr/local/lib/python3.7/dist-packages (from requests>=2.1.0->tldextract->scrapy->advertools) (2022.6.15)\n",
            "Requirement already satisfied: requests-oauthlib>=0.4.0 in /usr/local/lib/python3.7/dist-packages (from twython->advertools) (1.3.1)\n",
            "Requirement already satisfied: oauthlib>=3.0.0 in /usr/local/lib/python3.7/dist-packages (from requests-oauthlib>=0.4.0->twython->advertools) (3.2.0)\n",
            "Building wheels for collected packages: PyDispatcher\n",
            "  Building wheel for PyDispatcher (setup.py) ... \u001b[?25l\u001b[?25hdone\n",
            "  Created wheel for PyDispatcher: filename=PyDispatcher-2.0.5-py3-none-any.whl size=11516 sha256=12e2f0921e56a12ece0a28674302b342541d817f62e2597f2b0358b624c59ebf\n",
            "  Stored in directory: /root/.cache/pip/wheels/2d/18/21/3c6a732eaa69a339198e08bb63b7da2c45933a3428b29ec454\n",
            "Successfully built PyDispatcher\n",
            "Installing collected packages: w3lib, cssselect, zope.interface, requests-file, parsel, jmespath, itemadapter, incremental, hyperlink, cryptography, constantly, Automat, Twisted, tldextract, service-identity, queuelib, pyOpenSSL, PyDispatcher, protego, itemloaders, twython, scrapy, advertools\n",
            "Successfully installed Automat-20.2.0 PyDispatcher-2.0.5 Twisted-22.4.0 advertools-0.13.1 constantly-15.1.0 cryptography-37.0.2 cssselect-1.1.0 hyperlink-21.0.0 incremental-21.3.0 itemadapter-0.6.0 itemloaders-1.0.4 jmespath-1.0.1 parsel-1.6.0 protego-0.2.1 pyOpenSSL-22.0.0 queuelib-1.6.2 requests-file-1.5.1 scrapy-2.6.1 service-identity-21.1.0 tldextract-3.3.0 twython-3.9.1 w3lib-1.22.0 zope.interface-5.4.0\n"
          ]
        }
      ]
    },
    {
      "cell_type": "code",
      "source": [
        "import advertools as adv"
      ],
      "metadata": {
        "id": "DaTPL6-e26aY"
      },
      "execution_count": 74,
      "outputs": []
    },
    {
      "cell_type": "code",
      "source": [
        "hashtag_summary = adv.extract_hashtags(df['text'])\n",
        "hashtag_summary.keys()"
      ],
      "metadata": {
        "colab": {
          "base_uri": "https://localhost:8080/"
        },
        "id": "_-oTTM1t3Gkb",
        "outputId": "712222c6-7978-40e3-b40a-463ca6109ff1"
      },
      "execution_count": 75,
      "outputs": [
        {
          "output_type": "execute_result",
          "data": {
            "text/plain": [
              "dict_keys(['hashtags', 'hashtags_flat', 'hashtag_counts', 'hashtag_freq', 'top_hashtags', 'overview'])"
            ]
          },
          "metadata": {},
          "execution_count": 75
        }
      ]
    },
    {
      "cell_type": "code",
      "source": [
        "hashtag_summary['hashtags'][:10]"
      ],
      "metadata": {
        "colab": {
          "base_uri": "https://localhost:8080/"
        },
        "id": "TfPYpaTF3SOU",
        "outputId": "c79128b0-4f73-4b5d-a9a1-bf31126d8397"
      },
      "execution_count": 76,
      "outputs": [
        {
          "output_type": "execute_result",
          "data": {
            "text/plain": [
              "[['#oligarch', '#ukraine', '#russian'],\n",
              " ['#ukraine', '#chine', '#taiwan'],\n",
              " ['#ukraine'],\n",
              " ['#mariupol', '#ukraine'],\n",
              " ['#ukraine'],\n",
              " ['#atdigital',\n",
              "  '#ukraine',\n",
              "  '#russia',\n",
              "  '#ukrainecrisis',\n",
              "  '#russiaukraineconflict',\n",
              "  '#re'],\n",
              " ['#icymi', '#un', '#russia', '#ukraine', '#moscow'],\n",
              " ['#ukriane', '#brd'],\n",
              " ['#photoprintday', '#ukraine'],\n",
              " ['#zaporizhzhia',\n",
              "  '#zaporizhzhia',\n",
              "  '#nuclear',\n",
              "  '#ukrainerussiawar',\n",
              "  '#ukraine',\n",
              "  '#енергодар']]"
            ]
          },
          "metadata": {},
          "execution_count": 76
        }
      ]
    },
    {
      "cell_type": "code",
      "execution_count": 26,
      "metadata": {
        "id": "_jIVqiKyhdF6"
      },
      "outputs": [],
      "source": [
        "import pandas as pd"
      ]
    },
    {
      "cell_type": "code",
      "execution_count": 27,
      "metadata": {
        "id": "raHq5QZkp43o"
      },
      "outputs": [],
      "source": [
        "warnings.simplefilter(action='ignore')"
      ]
    },
    {
      "cell_type": "code",
      "execution_count": 28,
      "metadata": {
        "colab": {
          "base_uri": "https://localhost:8080/"
        },
        "id": "t30dyRIpCqIC",
        "outputId": "4b88f6a0-b268-4c47-e605-c0f91ecdeb97"
      },
      "outputs": [
        {
          "output_type": "stream",
          "name": "stdout",
          "text": [
            "Looking in indexes: https://pypi.org/simple, https://us-python.pkg.dev/colab-wheels/public/simple/\n",
            "Collecting vaderSentiment\n",
            "  Downloading vaderSentiment-3.3.2-py2.py3-none-any.whl (125 kB)\n",
            "\u001b[K     |████████████████████████████████| 125 kB 5.1 MB/s \n",
            "\u001b[?25hRequirement already satisfied: requests in /usr/local/lib/python3.7/dist-packages (from vaderSentiment) (2.23.0)\n",
            "Requirement already satisfied: chardet<4,>=3.0.2 in /usr/local/lib/python3.7/dist-packages (from requests->vaderSentiment) (3.0.4)\n",
            "Requirement already satisfied: idna<3,>=2.5 in /usr/local/lib/python3.7/dist-packages (from requests->vaderSentiment) (2.10)\n",
            "Requirement already satisfied: certifi>=2017.4.17 in /usr/local/lib/python3.7/dist-packages (from requests->vaderSentiment) (2022.6.15)\n",
            "Requirement already satisfied: urllib3!=1.25.0,!=1.25.1,<1.26,>=1.21.1 in /usr/local/lib/python3.7/dist-packages (from requests->vaderSentiment) (1.24.3)\n",
            "Installing collected packages: vaderSentiment\n",
            "Successfully installed vaderSentiment-3.3.2\n"
          ]
        }
      ],
      "source": [
        "!pip install vaderSentiment\n",
        "from nltk.sentiment.vader import SentimentIntensityAnalyzer\n",
        "import nltk"
      ]
    },
    {
      "cell_type": "code",
      "execution_count": 29,
      "metadata": {
        "colab": {
          "base_uri": "https://localhost:8080/"
        },
        "id": "q4hXy-UKbBaP",
        "outputId": "273d8c07-c885-4527-9750-36fb887e306f"
      },
      "outputs": [
        {
          "output_type": "stream",
          "name": "stderr",
          "text": [
            "[nltk_data] Downloading package vader_lexicon to /root/nltk_data...\n"
          ]
        },
        {
          "output_type": "stream",
          "name": "stdout",
          "text": [
            "                                                      text  Positive  \\\n",
            "1378357  @SenFeinstein you and your #oligarch cronies (...      0.00   \n",
            "1378358  La crise en #Ukraine a déplacé la stratégie du...      0.00   \n",
            "1378359  Vous doutez de notre force de dissuasion ? #Uk...      0.00   \n",
            "1378360  Their bloods are on the Russian hands.\\nMilita...      0.00   \n",
            "1378361  9:32 pm in #Ukraine. \\n\\nMy colleague from Sum...      0.08   \n",
            "\n",
            "         Negative  Neutral  \n",
            "1378357     0.212    0.788  \n",
            "1378358     0.000    1.000  \n",
            "1378359     0.000    1.000  \n",
            "1378360     0.000    1.000  \n",
            "1378361     0.296    0.624  \n"
          ]
        }
      ],
      "source": [
        "nltk.download('vader_lexicon')\n",
        "Sentie = SentimentIntensityAnalyzer()\n",
        "df[\"Positive\"] = [Sentie.polarity_scores(i)[\"pos\"] for i in df[\"text\"]]\n",
        "df[\"Negative\"] = [Sentie.polarity_scores(i)[\"neg\"] for i in df[\"text\"]]\n",
        "df[\"Neutral\"] = [Sentie.polarity_scores(i)[\"neu\"] for i in df[\"text\"]]\n",
        "df = df[[\"text\", \"Positive\", \"Negative\", \"Neutral\"]]\n",
        "print(df.head())"
      ]
    },
    {
      "cell_type": "code",
      "execution_count": 56,
      "metadata": {
        "id": "7jAhFTyCbBRY"
      },
      "outputs": [],
      "source": [
        "from vaderSentiment.vaderSentiment import SentimentIntensityAnalyzer\n",
        "\n",
        "analyser = SentimentIntensityAnalyzer()\n",
        "\n",
        "def score_sentiment(compound_score):\n",
        "    if compound_score >= 0.05:\n",
        "        return(\"Positive\")\n",
        "    elif compound_score < 0.05 and compound_score >= -0.05:\n",
        "        return(\"Neutral\")\n",
        "    else:\n",
        "        return(\"Negative\")"
      ]
    },
    {
      "cell_type": "code",
      "execution_count": 57,
      "metadata": {
        "id": "1UiFOYQonUmF"
      },
      "outputs": [],
      "source": [
        "df[\"Text_sentiment\"] = df[\"text\"].map(lambda x: score_sentiment(analyser.polarity_scores(x)['compound']))"
      ]
    },
    {
      "cell_type": "code",
      "execution_count": 58,
      "metadata": {
        "colab": {
          "base_uri": "https://localhost:8080/",
          "height": 295
        },
        "id": "z74P1dlnnnHe",
        "outputId": "b2519379-5107-4f31-d5d6-6f573bb51553"
      },
      "outputs": [
        {
          "output_type": "display_data",
          "data": {
            "text/plain": [
              "<Figure size 432x288 with 1 Axes>"
            ],
            "image/png": "[encoded data removed]"
          },
          "metadata": {
            "needs_background": "light"
          }
        }
      ],
      "source": [
        "text_sentiment_counts = df[\"Text_sentiment\"].value_counts().to_dict()\n",
        "plt.bar(text_sentiment_counts.keys(),height=text_sentiment_counts.values(),color='blue')\n",
        "plt.ylabel('Sentiment')\n",
        "plt.xlabel('Score')\n",
        "plt.title('Sentiments of tweets')\n",
        "plt.show()"
      ]
    },
    {
      "cell_type": "code",
      "execution_count": null,
      "metadata": {
        "id": "0x6yj-bjoMo5"
      },
      "outputs": [],
      "source": [
        "#plt.matshow(df.corr())\n",
        "#plt.show()"
      ]
    },
    {
      "cell_type": "markdown",
      "source": [
        "#used literature:\n",
        "https://www.analyticsvidhya.com/blog/2021/07/performing-sentiment-analysis-using-twitter-data/"
      ],
      "metadata": {
        "id": "LR0pDRH7wpfC"
      }
    }
  ],
  "metadata": {
    "colab": {
      "collapsed_sections": [],
      "name": "russianvsukraniantweets.ipynb",
      "provenance": [],
      "include_colab_link": true
    },
    "kernelspec": {
      "display_name": "Python 3 (ipykernel)",
      "language": "python",
      "name": "python3"
    },
    "language_info": {
      "codemirror_mode": {
        "name": "ipython",
        "version": 3
      },
      "file_extension": ".py",
      "mimetype": "text/x-python",
      "name": "python",
      "nbconvert_exporter": "python",
      "pygments_lexer": "ipython3",
      "version": "3.8.10"
    }
  },
  "nbformat": 4,
  "nbformat_minor": 0
}